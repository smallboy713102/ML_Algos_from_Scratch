{
 "cells": [
  {
   "cell_type": "code",
   "execution_count": 1,
   "id": "732b64d9",
   "metadata": {},
   "outputs": [],
   "source": [
    "import numpy as np\n",
    "import pandas as pd\n",
    "import sklearn\n",
    "import tensorflow as tf\n",
    "import matplotlib.pyplot as plt"
   ]
  },
  {
   "cell_type": "code",
   "execution_count": 2,
   "id": "82e43cd8",
   "metadata": {},
   "outputs": [
    {
     "data": {
      "text/html": [
       "<div>\n",
       "<style scoped>\n",
       "    .dataframe tbody tr th:only-of-type {\n",
       "        vertical-align: middle;\n",
       "    }\n",
       "\n",
       "    .dataframe tbody tr th {\n",
       "        vertical-align: top;\n",
       "    }\n",
       "\n",
       "    .dataframe thead th {\n",
       "        text-align: right;\n",
       "    }\n",
       "</style>\n",
       "<table border=\"1\" class=\"dataframe\">\n",
       "  <thead>\n",
       "    <tr style=\"text-align: right;\">\n",
       "      <th></th>\n",
       "      <th>YearsExperience</th>\n",
       "      <th>Salary</th>\n",
       "    </tr>\n",
       "  </thead>\n",
       "  <tbody>\n",
       "    <tr>\n",
       "      <th>0</th>\n",
       "      <td>1.1</td>\n",
       "      <td>39343.0</td>\n",
       "    </tr>\n",
       "    <tr>\n",
       "      <th>1</th>\n",
       "      <td>1.3</td>\n",
       "      <td>46205.0</td>\n",
       "    </tr>\n",
       "    <tr>\n",
       "      <th>2</th>\n",
       "      <td>1.5</td>\n",
       "      <td>37731.0</td>\n",
       "    </tr>\n",
       "  </tbody>\n",
       "</table>\n",
       "</div>"
      ],
      "text/plain": [
       "   YearsExperience   Salary\n",
       "0              1.1  39343.0\n",
       "1              1.3  46205.0\n",
       "2              1.5  37731.0"
      ]
     },
     "execution_count": 2,
     "metadata": {},
     "output_type": "execute_result"
    }
   ],
   "source": [
    "df=pd.read_csv('Salary_Data.csv')\n",
    "df.head(3)"
   ]
  },
  {
   "cell_type": "code",
   "execution_count": 3,
   "id": "0fa16711",
   "metadata": {},
   "outputs": [
    {
     "data": {
      "text/plain": [
       "30"
      ]
     },
     "execution_count": 3,
     "metadata": {},
     "output_type": "execute_result"
    }
   ],
   "source": [
    "n=df.shape[0]\n",
    "w_initial=[1,1]\n",
    "n"
   ]
  },
  {
   "cell_type": "code",
   "execution_count": 4,
   "id": "219ede80",
   "metadata": {},
   "outputs": [],
   "source": [
    "def grad(y,x,a,b):\n",
    "    df_da=-1*a*(y-(a*x+b))\n",
    "    df_db=(y-(a*x+b))\n",
    "    return df_da,df_db"
   ]
  },
  {
   "cell_type": "code",
   "execution_count": 5,
   "id": "68f0891f",
   "metadata": {},
   "outputs": [],
   "source": [
    "def SGD(w_initial,learning_rate):\n",
    "    epochs=100\n",
    "    for epoch in range(epochs):\n",
    "        for i in range(n):\n",
    "            x=df['YearsExperience'][i]\n",
    "            y=df['Salary'][i]\n",
    "            df_da,df_db=grad(y,x,w_initial[0],w_initial[1])\n",
    "            w_initial[0]=w_initial[0]-learning_rate*df_da\n",
    "            w_initial[1]=w_initial[1]-learning_rate*df_db\n",
    "    return w_initial"
   ]
  },
  {
   "cell_type": "code",
   "execution_count": 6,
   "id": "3e370de9",
   "metadata": {},
   "outputs": [
    {
     "data": {
      "text/plain": [
       "[14135.817878957518, -8.594249712633362]"
      ]
     },
     "execution_count": 6,
     "metadata": {},
     "output_type": "execute_result"
    }
   ],
   "source": [
    "SGD(w_initial,0.0000001)"
   ]
  },
  {
   "cell_type": "code",
   "execution_count": 7,
   "id": "199d8638",
   "metadata": {},
   "outputs": [
    {
     "data": {
      "text/plain": [
       "1.3"
      ]
     },
     "execution_count": 7,
     "metadata": {},
     "output_type": "execute_result"
    }
   ],
   "source": [
    "df['YearsExperience'][1]"
   ]
  },
  {
   "cell_type": "code",
   "execution_count": 8,
   "id": "a9eaa32b",
   "metadata": {},
   "outputs": [
    {
     "data": {
      "text/plain": [
       "46205.0"
      ]
     },
     "execution_count": 8,
     "metadata": {},
     "output_type": "execute_result"
    }
   ],
   "source": [
    "df['Salary'][1]"
   ]
  },
  {
   "cell_type": "code",
   "execution_count": 17,
   "id": "04fd690d",
   "metadata": {},
   "outputs": [
    {
     "data": {
      "text/plain": [
       "18385.157492357408"
      ]
     },
     "execution_count": 17,
     "metadata": {},
     "output_type": "execute_result"
    }
   ],
   "source": [
    "x=w_initial[0]*df['YearsExperience'][1]-w_initial[1]"
   ]
  },
  {
   "cell_type": "code",
   "execution_count": 18,
   "id": "dde0a498",
   "metadata": {},
   "outputs": [
    {
     "data": {
      "text/plain": [
       "27819.842507642592"
      ]
     },
     "execution_count": 18,
     "metadata": {},
     "output_type": "execute_result"
    }
   ],
   "source": [
    "error=df['Salary'][1]-x\n",
    "error"
   ]
  },
  {
   "cell_type": "code",
   "execution_count": 19,
   "id": "e2d34a08",
   "metadata": {},
   "outputs": [
    {
     "data": {
      "text/plain": [
       "60.209593134168585"
      ]
     },
     "execution_count": 19,
     "metadata": {},
     "output_type": "execute_result"
    }
   ],
   "source": [
    "error_per=error/df['Salary'][1]*100\n",
    "error_per"
   ]
  },
  {
   "cell_type": "code",
   "execution_count": null,
   "id": "4b695fbe",
   "metadata": {},
   "outputs": [],
   "source": []
  }
 ],
 "metadata": {
  "kernelspec": {
   "display_name": "Python 3 (ipykernel)",
   "language": "python",
   "name": "python3"
  },
  "language_info": {
   "codemirror_mode": {
    "name": "ipython",
    "version": 3
   },
   "file_extension": ".py",
   "mimetype": "text/x-python",
   "name": "python",
   "nbconvert_exporter": "python",
   "pygments_lexer": "ipython3",
   "version": "3.8.16"
  }
 },
 "nbformat": 4,
 "nbformat_minor": 5
}
